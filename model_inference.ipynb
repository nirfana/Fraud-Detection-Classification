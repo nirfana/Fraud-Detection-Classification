{
 "cells": [
  {
   "cell_type": "markdown",
   "metadata": {},
   "source": [
    "# 1. Introducttion\n",
    "\n",
    "Name: Devi Nirfana Hermawan<br>\n",
    "Batch: HCK-016\n",
    "\n",
    "This notebook will show the model inference from the model that build for Phase 1 Milestones 2."
   ]
  },
  {
   "cell_type": "markdown",
   "metadata": {},
   "source": [
    "# 2. Import Library"
   ]
  },
  {
   "cell_type": "code",
   "execution_count": 1,
   "metadata": {},
   "outputs": [],
   "source": [
    "# Data Manipulation\n",
    "import pandas as pd \n",
    "\n",
    "# Model loading\n",
    "import pickle"
   ]
  },
  {
   "cell_type": "markdown",
   "metadata": {},
   "source": [
    "# 3. Load Model"
   ]
  },
  {
   "cell_type": "code",
   "execution_count": 12,
   "metadata": {},
   "outputs": [],
   "source": [
    "# load the model\n",
    "with open('deployment/model.pkl', 'rb') as file_1:\n",
    "    model = pickle.load(file_1)"
   ]
  },
  {
   "cell_type": "markdown",
   "metadata": {},
   "source": [
    "The model is loaded using pickle"
   ]
  },
  {
   "cell_type": "markdown",
   "metadata": {},
   "source": [
    "# 4. Load Data"
   ]
  },
  {
   "cell_type": "code",
   "execution_count": 17,
   "metadata": {},
   "outputs": [
    {
     "data": {
      "text/html": [
       "<div>\n",
       "<style scoped>\n",
       "    .dataframe tbody tr th:only-of-type {\n",
       "        vertical-align: middle;\n",
       "    }\n",
       "\n",
       "    .dataframe tbody tr th {\n",
       "        vertical-align: top;\n",
       "    }\n",
       "\n",
       "    .dataframe thead th {\n",
       "        text-align: right;\n",
       "    }\n",
       "</style>\n",
       "<table border=\"1\" class=\"dataframe\">\n",
       "  <thead>\n",
       "    <tr style=\"text-align: right;\">\n",
       "      <th></th>\n",
       "      <th>step</th>\n",
       "      <th>type</th>\n",
       "      <th>amount</th>\n",
       "      <th>nameOrig</th>\n",
       "      <th>oldbalanceOrg</th>\n",
       "      <th>newbalanceOrig</th>\n",
       "      <th>nameDest</th>\n",
       "      <th>oldbalanceDest</th>\n",
       "      <th>newbalanceDest</th>\n",
       "      <th>isFlaggedFraud</th>\n",
       "    </tr>\n",
       "  </thead>\n",
       "  <tbody>\n",
       "    <tr>\n",
       "      <th>0</th>\n",
       "      <td>1</td>\n",
       "      <td>TRANSFER</td>\n",
       "      <td>1000</td>\n",
       "      <td>C12345</td>\n",
       "      <td>5000</td>\n",
       "      <td>4000</td>\n",
       "      <td>M12345</td>\n",
       "      <td>3000</td>\n",
       "      <td>4000</td>\n",
       "      <td>0</td>\n",
       "    </tr>\n",
       "    <tr>\n",
       "      <th>1</th>\n",
       "      <td>2</td>\n",
       "      <td>PAYMENT</td>\n",
       "      <td>1500</td>\n",
       "      <td>C12346</td>\n",
       "      <td>6000</td>\n",
       "      <td>4500</td>\n",
       "      <td>M12346</td>\n",
       "      <td>3500</td>\n",
       "      <td>5000</td>\n",
       "      <td>0</td>\n",
       "    </tr>\n",
       "    <tr>\n",
       "      <th>2</th>\n",
       "      <td>3</td>\n",
       "      <td>DEBIT</td>\n",
       "      <td>2000</td>\n",
       "      <td>C12347</td>\n",
       "      <td>7000</td>\n",
       "      <td>5000</td>\n",
       "      <td>M12347</td>\n",
       "      <td>4000</td>\n",
       "      <td>6000</td>\n",
       "      <td>0</td>\n",
       "    </tr>\n",
       "    <tr>\n",
       "      <th>3</th>\n",
       "      <td>4</td>\n",
       "      <td>CASH_OUT</td>\n",
       "      <td>2500</td>\n",
       "      <td>C12348</td>\n",
       "      <td>8000</td>\n",
       "      <td>5500</td>\n",
       "      <td>M12348</td>\n",
       "      <td>4500</td>\n",
       "      <td>7000</td>\n",
       "      <td>0</td>\n",
       "    </tr>\n",
       "    <tr>\n",
       "      <th>4</th>\n",
       "      <td>5</td>\n",
       "      <td>CASH_IN</td>\n",
       "      <td>3000</td>\n",
       "      <td>C12349</td>\n",
       "      <td>9000</td>\n",
       "      <td>6000</td>\n",
       "      <td>M12349</td>\n",
       "      <td>5000</td>\n",
       "      <td>8000</td>\n",
       "      <td>0</td>\n",
       "    </tr>\n",
       "  </tbody>\n",
       "</table>\n",
       "</div>"
      ],
      "text/plain": [
       "   step      type  amount nameOrig  oldbalanceOrg  newbalanceOrig nameDest  \\\n",
       "0     1  TRANSFER    1000   C12345           5000            4000   M12345   \n",
       "1     2   PAYMENT    1500   C12346           6000            4500   M12346   \n",
       "2     3     DEBIT    2000   C12347           7000            5000   M12347   \n",
       "3     4  CASH_OUT    2500   C12348           8000            5500   M12348   \n",
       "4     5   CASH_IN    3000   C12349           9000            6000   M12349   \n",
       "\n",
       "   oldbalanceDest  newbalanceDest  isFlaggedFraud  \n",
       "0            3000            4000               0  \n",
       "1            3500            5000               0  \n",
       "2            4000            6000               0  \n",
       "3            4500            7000               0  \n",
       "4            5000            8000               0  "
      ]
     },
     "execution_count": 17,
     "metadata": {},
     "output_type": "execute_result"
    }
   ],
   "source": [
    "# Create Dummy Data\n",
    "data_dummy = {\n",
    "    'step': [1, 2, 3, 4, 5, 6, 7, 8, 9, 10],\n",
    "    'type': ['TRANSFER', 'PAYMENT', 'DEBIT', 'CASH_OUT', 'CASH_IN', 'TRANSFER', 'PAYMENT', 'DEBIT', 'CASH_OUT', 'CASH_IN'],\n",
    "    'amount': [1000, 1500, 2000, 2500, 3000, 3500, 40000, 4500, 5000, 5500],\n",
    "    'nameOrig': ['C12345', 'C12346', 'C12347', 'C12348', 'C12349', 'C12350', 'C12351', 'C12352', 'C12353', 'C12354'],\n",
    "    'oldbalanceOrg': [5000, 6000, 7000, 8000, 9000, 1000990, 11000, 12000, 13000, 14000],\n",
    "    'newbalanceOrig': [4000, 4500, 5000, 5500, 6000, 6500, 7000, 7500, 8000, 8500],\n",
    "    'nameDest': ['M12345', 'M12346', 'M12347', 'M12348', 'M12349', 'M12350', 'M12351', 'M12352', 'M12353', 'M12354'],\n",
    "    'oldbalanceDest': [3000, 3500, 4000, 4500, 5000, 5500, 6000, 6500, 7000, 7500],\n",
    "    'newbalanceDest': [4000, 5000, 6000, 7000, 8000, 908800, 10000, 11000, 12000, 13000],\n",
    "    'isFlaggedFraud': [0, 0, 0, 0, 0, 0, 0, 0, 0, 0]\n",
    "}\n",
    "\n",
    "# Create DataFrame\n",
    "df_data_dummy = pd.DataFrame(data_dummy)\n",
    "\n",
    "# Display DataFrame\n",
    "df_data_dummy.head()"
   ]
  },
  {
   "cell_type": "markdown",
   "metadata": {},
   "source": [
    "The dummy data have been successfully loaded."
   ]
  },
  {
   "cell_type": "markdown",
   "metadata": {},
   "source": [
    "# 5. Model Prediction"
   ]
  },
  {
   "cell_type": "code",
   "execution_count": 18,
   "metadata": {},
   "outputs": [
    {
     "data": {
      "text/plain": [
       "array([0, 0, 0, 0, 0, 0, 0, 0, 0, 0])"
      ]
     },
     "execution_count": 18,
     "metadata": {},
     "output_type": "execute_result"
    }
   ],
   "source": [
    "# Predict the Fraud transaction\n",
    "predicted_fraud = model.predict(df_data_dummy)\n",
    "predicted_fraud"
   ]
  },
  {
   "cell_type": "markdown",
   "metadata": {},
   "source": [
    "The model can predict the data without needing preprocessing because it was built using column transformers and a pipeline."
   ]
  },
  {
   "cell_type": "code",
   "execution_count": 23,
   "metadata": {},
   "outputs": [
    {
     "data": {
      "text/html": [
       "<div>\n",
       "<style scoped>\n",
       "    .dataframe tbody tr th:only-of-type {\n",
       "        vertical-align: middle;\n",
       "    }\n",
       "\n",
       "    .dataframe tbody tr th {\n",
       "        vertical-align: top;\n",
       "    }\n",
       "\n",
       "    .dataframe thead th {\n",
       "        text-align: right;\n",
       "    }\n",
       "</style>\n",
       "<table border=\"1\" class=\"dataframe\">\n",
       "  <thead>\n",
       "    <tr style=\"text-align: right;\">\n",
       "      <th></th>\n",
       "      <th>type</th>\n",
       "      <th>nameOrig</th>\n",
       "      <th>nameDest</th>\n",
       "      <th>prediction</th>\n",
       "    </tr>\n",
       "  </thead>\n",
       "  <tbody>\n",
       "    <tr>\n",
       "      <th>0</th>\n",
       "      <td>TRANSFER</td>\n",
       "      <td>C12345</td>\n",
       "      <td>M12345</td>\n",
       "      <td>Not Fraud Transactions</td>\n",
       "    </tr>\n",
       "    <tr>\n",
       "      <th>1</th>\n",
       "      <td>PAYMENT</td>\n",
       "      <td>C12346</td>\n",
       "      <td>M12346</td>\n",
       "      <td>Not Fraud Transactions</td>\n",
       "    </tr>\n",
       "    <tr>\n",
       "      <th>2</th>\n",
       "      <td>DEBIT</td>\n",
       "      <td>C12347</td>\n",
       "      <td>M12347</td>\n",
       "      <td>Not Fraud Transactions</td>\n",
       "    </tr>\n",
       "    <tr>\n",
       "      <th>3</th>\n",
       "      <td>CASH_OUT</td>\n",
       "      <td>C12348</td>\n",
       "      <td>M12348</td>\n",
       "      <td>Not Fraud Transactions</td>\n",
       "    </tr>\n",
       "    <tr>\n",
       "      <th>4</th>\n",
       "      <td>CASH_IN</td>\n",
       "      <td>C12349</td>\n",
       "      <td>M12349</td>\n",
       "      <td>Not Fraud Transactions</td>\n",
       "    </tr>\n",
       "    <tr>\n",
       "      <th>5</th>\n",
       "      <td>TRANSFER</td>\n",
       "      <td>C12350</td>\n",
       "      <td>M12350</td>\n",
       "      <td>Not Fraud Transactions</td>\n",
       "    </tr>\n",
       "    <tr>\n",
       "      <th>6</th>\n",
       "      <td>PAYMENT</td>\n",
       "      <td>C12351</td>\n",
       "      <td>M12351</td>\n",
       "      <td>Not Fraud Transactions</td>\n",
       "    </tr>\n",
       "    <tr>\n",
       "      <th>7</th>\n",
       "      <td>DEBIT</td>\n",
       "      <td>C12352</td>\n",
       "      <td>M12352</td>\n",
       "      <td>Not Fraud Transactions</td>\n",
       "    </tr>\n",
       "    <tr>\n",
       "      <th>8</th>\n",
       "      <td>CASH_OUT</td>\n",
       "      <td>C12353</td>\n",
       "      <td>M12353</td>\n",
       "      <td>Not Fraud Transactions</td>\n",
       "    </tr>\n",
       "    <tr>\n",
       "      <th>9</th>\n",
       "      <td>CASH_IN</td>\n",
       "      <td>C12354</td>\n",
       "      <td>M12354</td>\n",
       "      <td>Not Fraud Transactions</td>\n",
       "    </tr>\n",
       "  </tbody>\n",
       "</table>\n",
       "</div>"
      ],
      "text/plain": [
       "       type nameOrig nameDest              prediction\n",
       "0  TRANSFER   C12345   M12345  Not Fraud Transactions\n",
       "1   PAYMENT   C12346   M12346  Not Fraud Transactions\n",
       "2     DEBIT   C12347   M12347  Not Fraud Transactions\n",
       "3  CASH_OUT   C12348   M12348  Not Fraud Transactions\n",
       "4   CASH_IN   C12349   M12349  Not Fraud Transactions\n",
       "5  TRANSFER   C12350   M12350  Not Fraud Transactions\n",
       "6   PAYMENT   C12351   M12351  Not Fraud Transactions\n",
       "7     DEBIT   C12352   M12352  Not Fraud Transactions\n",
       "8  CASH_OUT   C12353   M12353  Not Fraud Transactions\n",
       "9   CASH_IN   C12354   M12354  Not Fraud Transactions"
      ]
     },
     "execution_count": 23,
     "metadata": {},
     "output_type": "execute_result"
    }
   ],
   "source": [
    "# assign prediction to the data\n",
    "df_data_dummy['prediction'] = predicted_fraud\n",
    "df_data_dummy['prediction'] = df_data_dummy['prediction'].map({1: 'Fraud Transactions', 0: 'Not Fraud Transactions'})\n",
    "\n",
    "# return readable prediction data from user\n",
    "df_data_dummy[['type','nameOrig', 'nameDest', 'prediction']]"
   ]
  }
 ],
 "metadata": {
  "kernelspec": {
   "display_name": "base",
   "language": "python",
   "name": "python3"
  },
  "language_info": {
   "codemirror_mode": {
    "name": "ipython",
    "version": 3
   },
   "file_extension": ".py",
   "mimetype": "text/x-python",
   "name": "python",
   "nbconvert_exporter": "python",
   "pygments_lexer": "ipython3",
   "version": "3.11.7"
  }
 },
 "nbformat": 4,
 "nbformat_minor": 2
}
